{
 "cells": [
  {
   "cell_type": "code",
   "execution_count": 7,
   "metadata": {},
   "outputs": [
    {
     "name": "stdout",
     "output_type": "stream",
     "text": [
      "ok\n"
     ]
    }
   ],
   "source": [
    "txt = 'txt.txt'\n",
    "results = 'results.csv'\n",
    "\n",
    "with open(txt, 'r') as file:\n",
    "    lines = file.readlines()\n",
    "\n",
    "values = []\n",
    "\n",
    "for line in lines:\n",
    "    #if line.strip() and line.lower().strip().endswith('ority'):\n",
    "    if line.strip() and not line.lower().strip().endswith('ority'):\n",
    "        values.extend([value.strip() for value in line.split()])\n",
    "\n",
    "data = ';'.join(values)\n",
    "\n",
    "with open(results, 'a') as file:\n",
    "    file.write('\\n')\n",
    "    file.write(data)\n",
    "\n",
    "print(\"ok\")\n"
   ]
  },
  {
   "cell_type": "code",
   "execution_count": 3,
   "metadata": {},
   "outputs": [
    {
     "name": "stdout",
     "output_type": "stream",
     "text": [
      "O arquivo CSV 'results.csv' foi convertido para Excel e salvo como 'saida.xlsx' (formato XLSX), separando cada ';' em uma célula.\n"
     ]
    }
   ],
   "source": [
    "import pandas as pd\n",
    "\n",
    "file_csv = 'results.csv'\n",
    "file_xlsx = 'saida.xlsx'\n",
    "\n",
    "# Lê o arquivo CSV usando ';' como separador\n",
    "data = pd.read_csv(file_csv, sep=';')\n",
    "\n",
    "# Salva os dados no formato Excel\n",
    "data.to_excel(file_xlsx, index=False)\n",
    "\n",
    "print(\"ok\")\n"
   ]
  }
 ],
 "metadata": {
  "kernelspec": {
   "display_name": "Python 3",
   "language": "python",
   "name": "python3"
  },
  "language_info": {
   "codemirror_mode": {
    "name": "ipython",
    "version": 3
   },
   "file_extension": ".py",
   "mimetype": "text/x-python",
   "name": "python",
   "nbconvert_exporter": "python",
   "pygments_lexer": "ipython3",
   "version": "3.12.1"
  }
 },
 "nbformat": 4,
 "nbformat_minor": 2
}
