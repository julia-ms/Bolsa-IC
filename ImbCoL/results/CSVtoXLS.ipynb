import pandas as pd

# Nome do arquivo CSV de entrada e do arquivo Excel de saída
arquivo_csv = 'results.csv'
arquivo_xls = 'results.xls'

# Lê o arquivo CSV
dados = pd.read_csv(arquivo_csv)

# Salva os dados no formato Excel
dados.to_excel(arquivo_xls, index=False)

print(f"O arquivo CSV '{arquivo_csv}' foi convertido para Excel e salvo como '{arquivo_xls}'.")
